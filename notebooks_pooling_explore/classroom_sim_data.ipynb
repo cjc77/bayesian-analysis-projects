{
 "cells": [
  {
   "cell_type": "markdown",
   "id": "c181161a-0e6a-4c04-bd78-4fd9bad19575",
   "metadata": {},
   "source": [
    "Based on: https://mc-stan.org/users/documentation/case-studies/pool-binary-trials.html"
   ]
  },
  {
   "cell_type": "code",
   "execution_count": 1,
   "id": "a640aebf-067f-4ef8-96fb-fe429bf4d08f",
   "metadata": {},
   "outputs": [
    {
     "name": "stderr",
     "output_type": "stream",
     "text": [
      "── \u001b[1mAttaching core tidyverse packages\u001b[22m ──────────────────────────────────────────────────────────────── tidyverse 2.0.0 ──\n",
      "\u001b[32m✔\u001b[39m \u001b[34mdplyr    \u001b[39m 1.1.3     \u001b[32m✔\u001b[39m \u001b[34mreadr    \u001b[39m 2.1.4\n",
      "\u001b[32m✔\u001b[39m \u001b[34mforcats  \u001b[39m 1.0.0     \u001b[32m✔\u001b[39m \u001b[34mstringr  \u001b[39m 1.5.0\n",
      "\u001b[32m✔\u001b[39m \u001b[34mggplot2  \u001b[39m 3.4.4     \u001b[32m✔\u001b[39m \u001b[34mtibble   \u001b[39m 3.2.1\n",
      "\u001b[32m✔\u001b[39m \u001b[34mlubridate\u001b[39m 1.9.3     \u001b[32m✔\u001b[39m \u001b[34mtidyr    \u001b[39m 1.3.0\n",
      "\u001b[32m✔\u001b[39m \u001b[34mpurrr    \u001b[39m 1.0.2     \n",
      "── \u001b[1mConflicts\u001b[22m ────────────────────────────────────────────────────────────────────────────────── tidyverse_conflicts() ──\n",
      "\u001b[31m✖\u001b[39m \u001b[34mdplyr\u001b[39m::\u001b[32mfilter()\u001b[39m masks \u001b[34mstats\u001b[39m::filter()\n",
      "\u001b[31m✖\u001b[39m \u001b[34mdplyr\u001b[39m::\u001b[32mlag()\u001b[39m    masks \u001b[34mstats\u001b[39m::lag()\n",
      "\u001b[36mℹ\u001b[39m Use the conflicted package (\u001b[3m\u001b[34m<http://conflicted.r-lib.org/>\u001b[39m\u001b[23m) to force all conflicts to become errors\n"
     ]
    }
   ],
   "source": [
    "library(tidyverse)\n",
    "library(yaml)"
   ]
  },
  {
   "cell_type": "code",
   "execution_count": 2,
   "id": "2ee32fc9-0869-4112-ae60-aad095d02548",
   "metadata": {},
   "outputs": [],
   "source": [
    "config_id <- \"pooling_sim\""
   ]
  },
  {
   "cell_type": "code",
   "execution_count": 3,
   "id": "ebfe2ad0-a542-4fef-abba-39cb1a22bdbc",
   "metadata": {},
   "outputs": [],
   "source": [
    "data_config <- yaml.load_file(paste0(\"../experiments/configs/\", config_id, \"/data.yaml\"))"
   ]
  },
  {
   "cell_type": "code",
   "execution_count": 4,
   "id": "1312d0d6-e8db-495c-ab29-a4bc51808a6b",
   "metadata": {},
   "outputs": [],
   "source": [
    "data_base_dir <- paste0(\"../\", data_config$output_dir)\n",
    "data_path <- paste0(data_base_dir, \"/scores_data.csv\")\n",
    "if (!dir.exists(data_base_dir)) {\n",
    "    dir.create(data_base_dir, recursive = TRUE)\n",
    "}"
   ]
  },
  {
   "cell_type": "code",
   "execution_count": 5,
   "id": "3eb5bb1e-60fa-4b3f-ab21-7c72b79f93bc",
   "metadata": {},
   "outputs": [],
   "source": [
    "N_students_per_class <- data_config$N_students_per_class\n",
    "N_classes <- data_config$N_classes\n",
    "N_total_students <- N_students_per_class * N_classes\n",
    "\n",
    "# Global intercept (average exam score when study hours = 0)\n",
    "beta_0 <- data_config$beta_0\n",
    "# Slope (effect of study hours on exam score)\n",
    "beta_1 <- data_config$beta_1\n",
    "# Standard deviation for classroom-level random effects\n",
    "sigma_class <- data_config$sigma_class\n",
    "# Standard deviation for student-level random errors\n",
    "sigma_student <- data_config$sigma_student\n",
    "max_study_hours <- data_config$max_study_hours\n",
    "\n",
    "data_seed <- data_config$seed"
   ]
  },
  {
   "cell_type": "markdown",
   "id": "3cf6980a-5203-497f-a6e2-4607be10f49e",
   "metadata": {},
   "source": [
    "Our true data generating process\n",
    "\n",
    "$y_{ij} = \\beta_{0} + \\beta_{1} X_{ij} + u_{0j} + e_{ij}$\n",
    "\n",
    "Where:\n",
    "- $y_{ij} \\sim \\mathcal{N}(\\beta_{0} + \\beta_{1} X_{ij} + u_{0j}, \\sigma_{\\text{student}}^2)$ = Exam score of student $i$ in classroom $j$\n",
    "- $u_{0j} \\sim \\mathcal{N}(0, \\sigma_{\\text{class}}^2)$ = the class-level effect for class $j$\n",
    "- $e_{ij} \\sim \\mathcal{N}(0, \\sigma_{\\text{student}}^2)$ = the student-level residual error term $i$\n",
    "- $X_{ij}$ = Hours spent studying by student $i$ in classroom $j$"
   ]
  },
  {
   "cell_type": "markdown",
   "id": "9827a407-5aed-4adf-be17-e5462cb1825e",
   "metadata": {},
   "source": [
    "## Simulate data"
   ]
  },
  {
   "cell_type": "code",
   "execution_count": 6,
   "id": "f99e943b-52fc-4725-81bd-fb99616b4a7d",
   "metadata": {},
   "outputs": [],
   "source": [
    "set.seed(data_seed)"
   ]
  },
  {
   "cell_type": "code",
   "execution_count": 7,
   "id": "682e6962-03f8-4be5-ae34-71b9794603c6",
   "metadata": {},
   "outputs": [],
   "source": [
    "scores_df <- tibble(\n",
    "        class_id = 1:N_classes,\n",
    "        class_effect = rnorm(N_classes, 0, sigma_class)\n",
    "    ) %>%\n",
    "    inner_join(\n",
    "        tibble(\n",
    "            class_id = rep(1:N_classes, each=N_students_per_class),\n",
    "            study_hours = runif(N_total_students, min = 0, max = max_study_hours),\n",
    "            student_error_term = rnorm(N_total_students, mean = 0, sd = sigma_student),\n",
    "            student_id = 1:N_total_students\n",
    "        ),\n",
    "        by=\"class_id\"\n",
    "    ) %>%\n",
    "    mutate(\n",
    "        score = beta_0 + beta_1 * study_hours + class_effect + student_error_term\n",
    "    )"
   ]
  },
  {
   "cell_type": "code",
   "execution_count": 8,
   "id": "6ef1fbac-1a33-48da-89c7-6666d20e133a",
   "metadata": {},
   "outputs": [],
   "source": [
    "scores_df %>%\n",
    "    write_csv(data_path)"
   ]
  }
 ],
 "metadata": {
  "kernelspec": {
   "display_name": "R",
   "language": "R",
   "name": "ir"
  },
  "language_info": {
   "codemirror_mode": "r",
   "file_extension": ".r",
   "mimetype": "text/x-r-source",
   "name": "R",
   "pygments_lexer": "r",
   "version": "4.3.1"
  }
 },
 "nbformat": 4,
 "nbformat_minor": 5
}
