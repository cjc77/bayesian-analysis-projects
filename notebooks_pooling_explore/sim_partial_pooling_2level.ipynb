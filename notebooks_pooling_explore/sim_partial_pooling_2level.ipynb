{
 "cells": [
  {
   "cell_type": "code",
   "execution_count": 1,
   "id": "d607bd2d-dff7-4d45-852f-34b62887f87e",
   "metadata": {},
   "outputs": [
    {
     "name": "stderr",
     "output_type": "stream",
     "text": [
      "── \u001b[1mAttaching core tidyverse packages\u001b[22m ──────────────────────────────────────────────────────────────── tidyverse 2.0.0 ──\n",
      "\u001b[32m✔\u001b[39m \u001b[34mdplyr    \u001b[39m 1.1.3     \u001b[32m✔\u001b[39m \u001b[34mreadr    \u001b[39m 2.1.4\n",
      "\u001b[32m✔\u001b[39m \u001b[34mforcats  \u001b[39m 1.0.0     \u001b[32m✔\u001b[39m \u001b[34mstringr  \u001b[39m 1.5.0\n",
      "\u001b[32m✔\u001b[39m \u001b[34mggplot2  \u001b[39m 3.4.4     \u001b[32m✔\u001b[39m \u001b[34mtibble   \u001b[39m 3.2.1\n",
      "\u001b[32m✔\u001b[39m \u001b[34mlubridate\u001b[39m 1.9.3     \u001b[32m✔\u001b[39m \u001b[34mtidyr    \u001b[39m 1.3.0\n",
      "\u001b[32m✔\u001b[39m \u001b[34mpurrr    \u001b[39m 1.0.2     \n",
      "── \u001b[1mConflicts\u001b[22m ────────────────────────────────────────────────────────────────────────────────── tidyverse_conflicts() ──\n",
      "\u001b[31m✖\u001b[39m \u001b[34mdplyr\u001b[39m::\u001b[32mfilter()\u001b[39m masks \u001b[34mstats\u001b[39m::filter()\n",
      "\u001b[31m✖\u001b[39m \u001b[34mdplyr\u001b[39m::\u001b[32mlag()\u001b[39m    masks \u001b[34mstats\u001b[39m::lag()\n",
      "\u001b[36mℹ\u001b[39m Use the conflicted package (\u001b[3m\u001b[34m<http://conflicted.r-lib.org/>\u001b[39m\u001b[23m) to force all conflicts to become errors\n",
      "Loading required package: StanHeaders\n",
      "\n",
      "\n",
      "rstan version 2.32.3 (Stan version 2.26.1)\n",
      "\n",
      "\n",
      "For execution on a local, multicore CPU with excess RAM we recommend calling\n",
      "options(mc.cores = parallel::detectCores()).\n",
      "To avoid recompilation of unchanged Stan programs, we recommend calling\n",
      "rstan_options(auto_write = TRUE)\n",
      "For within-chain threading using `reduce_sum()` or `map_rect()` Stan functions,\n",
      "change `threads_per_chain` option:\n",
      "rstan_options(threads_per_chain = 1)\n",
      "\n",
      "\n",
      "\n",
      "Attaching package: ‘rstan’\n",
      "\n",
      "\n",
      "The following object is masked from ‘package:tidyr’:\n",
      "\n",
      "    extract\n",
      "\n",
      "\n"
     ]
    }
   ],
   "source": [
    "library(tidyverse)\n",
    "library(yaml)\n",
    "library(rstan)\n",
    "library(tidybayes)"
   ]
  },
  {
   "cell_type": "markdown",
   "id": "aee775e7-68b7-4c4d-89d9-b0ed579b5e35",
   "metadata": {},
   "source": [
    "## Config and data"
   ]
  },
  {
   "cell_type": "code",
   "execution_count": 2,
   "id": "81c07a4b-0830-4c4e-a4c2-8e160a5323c6",
   "metadata": {},
   "outputs": [],
   "source": [
    "config_id <- \"pooling_sim_partial_pool_2level\"\n",
    "data_config_id <- \"pooling_sim\""
   ]
  },
  {
   "cell_type": "code",
   "execution_count": 3,
   "id": "f50ffbf2-59dc-4ac1-bb8a-3650d9a0adee",
   "metadata": {},
   "outputs": [],
   "source": [
    "data_config <- yaml.load_file(paste0(\"../data/configs/\", data_config_id, \"/data.yaml\"))\n",
    "main_config <- yaml.load_file(paste0(\"../experiments/configs/\", config_id, \"/main.yaml\"))"
   ]
  },
  {
   "cell_type": "code",
   "execution_count": 4,
   "id": "bece350e-7b6e-4177-a653-94cbc41305d7",
   "metadata": {},
   "outputs": [],
   "source": [
    "results_base_dir <- paste0(\"../experiments/results/\", config_id)\n",
    "if (!dir.exists(results_base_dir)) {\n",
    "    dir.create(results_base_dir, recursive = TRUE)\n",
    "}"
   ]
  },
  {
   "cell_type": "markdown",
   "id": "8a9da597-e7aa-4a34-94e0-0af45a90eb22",
   "metadata": {},
   "source": [
    "### Data"
   ]
  },
  {
   "cell_type": "code",
   "execution_count": 5,
   "id": "19fb32bd-cc39-4c13-93fc-7c8d31a6cc0b",
   "metadata": {},
   "outputs": [],
   "source": [
    "data_base_dir <- paste0(\"../\", data_config$output_dir)\n",
    "data_path <- paste0(data_base_dir, \"/data.csv\")\n",
    "beta_0 <- data_config$beta_0\n",
    "beta_1 <- data_config$beta_1\n",
    "n_measurements <- data_config$n_measurements"
   ]
  },
  {
   "cell_type": "code",
   "execution_count": 6,
   "id": "d9e6eb85-b638-4cb1-9e77-191994055a32",
   "metadata": {},
   "outputs": [
    {
     "name": "stderr",
     "output_type": "stream",
     "text": [
      "\u001b[1mRows: \u001b[22m\u001b[34m3000\u001b[39m \u001b[1mColumns: \u001b[22m\u001b[34m8\u001b[39m\n",
      "\u001b[36m──\u001b[39m \u001b[1mColumn specification\u001b[22m \u001b[36m────────────────────────────────────────────────────────────────────────────────────────────────\u001b[39m\n",
      "\u001b[1mDelimiter:\u001b[22m \",\"\n",
      "\u001b[32mdbl\u001b[39m (8): group_id, group_effect, x, indiv_effect, indiv_id, measurement_id, ...\n",
      "\n",
      "\u001b[36mℹ\u001b[39m Use `spec()` to retrieve the full column specification for this data.\n",
      "\u001b[36mℹ\u001b[39m Specify the column types or set `show_col_types = FALSE` to quiet this message.\n"
     ]
    }
   ],
   "source": [
    "data_df <- read_csv(data_path)\n",
    "fit_data_df <- data_df %>%\n",
    "    filter(measurement_id < n_measurements)\n",
    "eval_data_df <- data_df %>%\n",
    "    filter(measurement_id == n_measurements)"
   ]
  },
  {
   "cell_type": "markdown",
   "id": "0334a3b1-e0a6-4bb7-a0a9-3ede057326b9",
   "metadata": {},
   "source": [
    "### Model"
   ]
  },
  {
   "cell_type": "code",
   "execution_count": 7,
   "id": "7182aac5-f31d-4505-93fd-4ad72325396b",
   "metadata": {},
   "outputs": [],
   "source": [
    "model_seed <- main_config$seed\n",
    "n_samp <- main_config$n_samp\n",
    "n_warmup_samp <- main_config$n_warmup_samp\n",
    "n_chains <- main_config$n_chains\n",
    "model_file_path <- paste0(\"../\", main_config$model_file_path)"
   ]
  },
  {
   "cell_type": "markdown",
   "id": "43dd0f90-b693-49e2-99fb-1b7541689018",
   "metadata": {},
   "source": [
    "## Model fitting"
   ]
  },
  {
   "cell_type": "markdown",
   "id": "dcfb847b-8c70-4cce-bbf0-86a399f32a7e",
   "metadata": {},
   "source": [
    "Note that we are only doing \"no pooling\" for the intercept. We assume a fixed slope."
   ]
  },
  {
   "cell_type": "code",
   "execution_count": 8,
   "id": "5dd4fb7a-a669-44e8-bfa7-84eecc45cfec",
   "metadata": {},
   "outputs": [],
   "source": [
    "n_indiv = eval_data_df %>% distinct(indiv_id) %>% nrow()\n",
    "n_groups = eval_data_df %>% distinct(group_id) %>% nrow()"
   ]
  },
  {
   "cell_type": "code",
   "execution_count": 9,
   "id": "e8ede6b4-2302-4086-bfdc-c1ec3dbd9cc2",
   "metadata": {},
   "outputs": [],
   "source": [
    "stan_data <- list(\n",
    "    N = eval_data_df %>% nrow(),\n",
    "    n_indiv = n_indiv,\n",
    "    n_groups = n_groups,\n",
    "    y = eval_data_df %>% pull(y),\n",
    "    x = eval_data_df %>% pull(x),\n",
    "    indiv_id = eval_data_df %>% pull(indiv_id),\n",
    "    group_id_map = eval_data_df %>%\n",
    "        distinct(indiv_id, group_id) %>%\n",
    "        arrange(indiv_id) %>%\n",
    "        pull(group_id),\n",
    "    beta_0_mu_group_prior = rep(beta_0, n_groups),\n",
    "    beta_0_sigma_indiv_prior = 5.0,\n",
    "    beta_0_sigma_group_prior = 5.0,\n",
    "    beta_1_mu_prior = 1.0,\n",
    "    beta_1_sigma_prior = 1.0\n",
    ")"
   ]
  },
  {
   "cell_type": "code",
   "execution_count": 10,
   "id": "0ceebdef-4b44-4643-a799-5f6936ff8a08",
   "metadata": {},
   "outputs": [
    {
     "name": "stderr",
     "output_type": "stream",
     "text": [
      "Warning message:\n",
      "“There were 255 divergent transitions after warmup. See\n",
      "https://mc-stan.org/misc/warnings.html#divergent-transitions-after-warmup\n",
      "to find out why this is a problem and how to eliminate them.”\n",
      "Warning message:\n",
      "“There were 14 transitions after warmup that exceeded the maximum treedepth. Increase max_treedepth above 10. See\n",
      "https://mc-stan.org/misc/warnings.html#maximum-treedepth-exceeded”\n",
      "Warning message:\n",
      "“There were 4 chains where the estimated Bayesian Fraction of Missing Information was low. See\n",
      "https://mc-stan.org/misc/warnings.html#bfmi-low”\n",
      "Warning message:\n",
      "“Examine the pairs() plot to diagnose sampling problems\n",
      "”\n",
      "Warning message:\n",
      "“The largest R-hat is 1.8, indicating chains have not mixed.\n",
      "Running the chains for more iterations may help. See\n",
      "https://mc-stan.org/misc/warnings.html#r-hat”\n",
      "Warning message:\n",
      "“Bulk Effective Samples Size (ESS) is too low, indicating posterior means and medians may be unreliable.\n",
      "Running the chains for more iterations may help. See\n",
      "https://mc-stan.org/misc/warnings.html#bulk-ess”\n",
      "Warning message:\n",
      "“Tail Effective Samples Size (ESS) is too low, indicating posterior variances and tail quantiles may be unreliable.\n",
      "Running the chains for more iterations may help. See\n",
      "https://mc-stan.org/misc/warnings.html#tail-ess”\n"
     ]
    }
   ],
   "source": [
    "if (!file.exists(paste0(results_base_dir, \"/fit.rds\"))) {\n",
    "    fit <- stan(\n",
    "        file = model_file_path,\n",
    "        data = stan_data,\n",
    "        chains = n_chains,\n",
    "        iter = n_samp,\n",
    "        warmup = n_warmup_samp,\n",
    "        seed = model_seed,\n",
    "        cores = n_chains,\n",
    "        pars = c(\"beta_0\", \"beta_1\"),\n",
    "        include = TRUE\n",
    "    )\n",
    "    saveRDS(fit, paste0(results_base_dir, \"/fit.rds\"))\n",
    "    \n",
    "    tidy_draws_df <- fit %>% tidybayes::spread_draws(beta_0[i], beta_1)\n",
    "    tidy_draws_df %>%\n",
    "        write_csv(paste0(results_base_dir, \"/draws.csv\"))\n",
    "} else {\n",
    "    fit <- readRDS(paste0(results_base_dir, \"/fit.rds\"))\n",
    "    tidy_draws_df <- read_csv(paste0(results_base_dir, \"/draws.csv\"))\n",
    "}"
   ]
  },
  {
   "cell_type": "code",
   "execution_count": 11,
   "id": "38a4c46c-b5ed-42bb-a065-68fd0f52cc46",
   "metadata": {},
   "outputs": [],
   "source": [
    "tidy_draws_long_df <- tidy_draws_df %>%\n",
    "    pivot_longer(cols = !c(\".chain\", \".iteration\", \".draw\", \"i\"), names_to = \"param\") %>%\n",
    "    ungroup() %>%\n",
    "    rename(indiv_id = i)"
   ]
  },
  {
   "cell_type": "code",
   "execution_count": 12,
   "id": "cb279e47-8a49-4f0d-b5f1-1581821f74db",
   "metadata": {},
   "outputs": [],
   "source": [
    "fit_summary <- summary(fit)"
   ]
  },
  {
   "cell_type": "code",
   "execution_count": 13,
   "id": "48ce5ce6-ae3b-4abc-b2f7-21210c3066f1",
   "metadata": {},
   "outputs": [
    {
     "data": {
      "text/html": [
       "<table class=\"dataframe\">\n",
       "<caption>A tibble: 1 × 11</caption>\n",
       "<thead>\n",
       "\t<tr><th scope=col>param</th><th scope=col>mean</th><th scope=col>se_mean</th><th scope=col>sd</th><th scope=col>2.5%</th><th scope=col>25%</th><th scope=col>50%</th><th scope=col>75%</th><th scope=col>97.5%</th><th scope=col>n_eff</th><th scope=col>Rhat</th></tr>\n",
       "\t<tr><th scope=col>&lt;chr&gt;</th><th scope=col>&lt;dbl&gt;</th><th scope=col>&lt;dbl&gt;</th><th scope=col>&lt;dbl&gt;</th><th scope=col>&lt;dbl&gt;</th><th scope=col>&lt;dbl&gt;</th><th scope=col>&lt;dbl&gt;</th><th scope=col>&lt;dbl&gt;</th><th scope=col>&lt;dbl&gt;</th><th scope=col>&lt;dbl&gt;</th><th scope=col>&lt;dbl&gt;</th></tr>\n",
       "</thead>\n",
       "<tbody>\n",
       "\t<tr><td>beta_1</td><td>1.011272</td><td>0.04790983</td><td>0.1644256</td><td>0.6620629</td><td>0.899315</td><td>1.02146</td><td>1.126159</td><td>1.306766</td><td>11.77849</td><td>1.203408</td></tr>\n",
       "</tbody>\n",
       "</table>\n"
      ],
      "text/latex": [
       "A tibble: 1 × 11\n",
       "\\begin{tabular}{lllllllllll}\n",
       " param & mean & se\\_mean & sd & 2.5\\% & 25\\% & 50\\% & 75\\% & 97.5\\% & n\\_eff & Rhat\\\\\n",
       " <chr> & <dbl> & <dbl> & <dbl> & <dbl> & <dbl> & <dbl> & <dbl> & <dbl> & <dbl> & <dbl>\\\\\n",
       "\\hline\n",
       "\t beta\\_1 & 1.011272 & 0.04790983 & 0.1644256 & 0.6620629 & 0.899315 & 1.02146 & 1.126159 & 1.306766 & 11.77849 & 1.203408\\\\\n",
       "\\end{tabular}\n"
      ],
      "text/markdown": [
       "\n",
       "A tibble: 1 × 11\n",
       "\n",
       "| param &lt;chr&gt; | mean &lt;dbl&gt; | se_mean &lt;dbl&gt; | sd &lt;dbl&gt; | 2.5% &lt;dbl&gt; | 25% &lt;dbl&gt; | 50% &lt;dbl&gt; | 75% &lt;dbl&gt; | 97.5% &lt;dbl&gt; | n_eff &lt;dbl&gt; | Rhat &lt;dbl&gt; |\n",
       "|---|---|---|---|---|---|---|---|---|---|---|\n",
       "| beta_1 | 1.011272 | 0.04790983 | 0.1644256 | 0.6620629 | 0.899315 | 1.02146 | 1.126159 | 1.306766 | 11.77849 | 1.203408 |\n",
       "\n"
      ],
      "text/plain": [
       "  param  mean     se_mean    sd        2.5%      25%      50%     75%     \n",
       "1 beta_1 1.011272 0.04790983 0.1644256 0.6620629 0.899315 1.02146 1.126159\n",
       "  97.5%    n_eff    Rhat    \n",
       "1 1.306766 11.77849 1.203408"
      ]
     },
     "metadata": {},
     "output_type": "display_data"
    }
   ],
   "source": [
    "fit_summary$summary %>%\n",
    "    as_tibble(rownames = \"param\") %>%\n",
    "    filter(param == \"beta_1\")"
   ]
  },
  {
   "cell_type": "code",
   "execution_count": 14,
   "id": "35b6b823-8549-46d6-9509-289f8a48b90b",
   "metadata": {},
   "outputs": [
    {
     "data": {
      "text/html": [
       "<table class=\"dataframe\">\n",
       "<caption>A tibble: 1 × 3</caption>\n",
       "<thead>\n",
       "\t<tr><th scope=col>Rhat_min</th><th scope=col>Rhat_max</th><th scope=col>Rhat_mean</th></tr>\n",
       "\t<tr><th scope=col>&lt;dbl&gt;</th><th scope=col>&lt;dbl&gt;</th><th scope=col>&lt;dbl&gt;</th></tr>\n",
       "</thead>\n",
       "<tbody>\n",
       "\t<tr><td>0.9991868</td><td>1.175876</td><td>1.092816</td></tr>\n",
       "</tbody>\n",
       "</table>\n"
      ],
      "text/latex": [
       "A tibble: 1 × 3\n",
       "\\begin{tabular}{lll}\n",
       " Rhat\\_min & Rhat\\_max & Rhat\\_mean\\\\\n",
       " <dbl> & <dbl> & <dbl>\\\\\n",
       "\\hline\n",
       "\t 0.9991868 & 1.175876 & 1.092816\\\\\n",
       "\\end{tabular}\n"
      ],
      "text/markdown": [
       "\n",
       "A tibble: 1 × 3\n",
       "\n",
       "| Rhat_min &lt;dbl&gt; | Rhat_max &lt;dbl&gt; | Rhat_mean &lt;dbl&gt; |\n",
       "|---|---|---|\n",
       "| 0.9991868 | 1.175876 | 1.092816 |\n",
       "\n"
      ],
      "text/plain": [
       "  Rhat_min  Rhat_max Rhat_mean\n",
       "1 0.9991868 1.175876 1.092816 "
      ]
     },
     "metadata": {},
     "output_type": "display_data"
    }
   ],
   "source": [
    "fit_summary$summary %>%\n",
    "    as_tibble(rownames=\"param\") %>%\n",
    "    arrange(desc(Rhat)) %>%\n",
    "    filter(str_starts(param, \"beta_0\")) %>%\n",
    "    summarize(\n",
    "        Rhat_min = min(Rhat),\n",
    "        Rhat_max = max(Rhat),\n",
    "        Rhat_mean = mean(Rhat)\n",
    "    )"
   ]
  },
  {
   "cell_type": "code",
   "execution_count": 15,
   "id": "4afa6615-dc04-46cb-82c6-f3ce9ef09b65",
   "metadata": {},
   "outputs": [],
   "source": [
    "set_theme_elements <- function(plt) {\n",
    "    plt +\n",
    "        theme_classic() +\n",
    "        theme(text = element_text(size=16))\n",
    "}\n",
    "\n",
    "# Settings for plots\n",
    "options(repr.plot.width = 16, repr.plot.height = 8, repr.plot.res = 100)"
   ]
  },
  {
   "cell_type": "code",
   "execution_count": 16,
   "id": "0a415cec-880e-4458-8188-8345cf2b8ffc",
   "metadata": {},
   "outputs": [
    {
     "data": {
      "image/png": "[encoded data removed]",
      "text/plain": [
       "plot without title"
      ]
     },
     "metadata": {
      "image/png": {
       "height": 400,
       "width": 800
      }
     },
     "output_type": "display_data"
    }
   ],
   "source": [
    "# TODO: improve this plot\n",
    "\n",
    "plt <- fit_summary$summary %>%\n",
    "    as_tibble(rownames=\"param\") %>%\n",
    "    arrange(desc(Rhat)) %>%\n",
    "    filter(str_starts(param, \"beta_0\")) %>%\n",
    "    ggplot() +\n",
    "    geom_density(aes(x = Rhat)) +\n",
    "    geom_jitter(aes(x = Rhat, y = -5), width = 0, height = 3)\n",
    "plt <- plt %>%\n",
    "    set_theme_elements()\n",
    "plt"
   ]
  },
  {
   "cell_type": "code",
   "execution_count": 17,
   "id": "bc445328-921d-48ef-9997-373ce000e6f7",
   "metadata": {},
   "outputs": [],
   "source": [
    "post_predictions <- function(samp_df, x_df, n_post = 100) {\n",
    "    # Perform sampling of beta_0 separately for all individuals \n",
    "    # since there is no pooling for this parameter\n",
    "    beta_0_df <- samp_df %>%\n",
    "        group_by(indiv_id, param) %>%\n",
    "        slice_sample(n = n_post, replace = TRUE) %>%\n",
    "        mutate(sample_id = 1:n()) %>%\n",
    "        ungroup() %>%\n",
    "        pivot_wider(id_cols = c(\"indiv_id\", \"sample_id\"), names_from = \"param\", values_from = \"value\") %>%\n",
    "        rename(betahat_0 = beta_0, betahat_1 = beta_1) %>%\n",
    "        # # Use many-to-many if there are multiple measurements per individual\n",
    "        # # in the evaluation set\n",
    "        # inner_join(x_df, by = \"indiv_id\", relationship = \"many-to-many\") %>%\n",
    "        inner_join(x_df, by = \"indiv_id\") %>%\n",
    "        mutate(yhat = betahat_0 + betahat_1 * x)\n",
    "\n",
    "    # Perform sampling of beta_1 jointly for all individuals\n",
    "    # since this parameter is fully pooled\n",
    "    beta_1_df <- samp_df %>%\n",
    "        filter(param == \"beta_1\") %>%\n",
    "        select(-c(indiv_id)) %>%\n",
    "        distinct() %>%\n",
    "        slice_sample(n = n_post, replace = TRUE) %>%\n",
    "        mutate(sample_id = 1:n()) %>%\n",
    "        pivot_wider(id_cols = c(\"sample_id\"), names_from = \"param\", values_from = \"value\")\n",
    "\n",
    "    beta_0_df %>%\n",
    "        inner_join(beta_1_df, by = \"sample_id\")\n",
    "}"
   ]
  },
  {
   "cell_type": "code",
   "execution_count": 18,
   "id": "61236a2b-3299-4a7c-8d7b-f5cc3b697f74",
   "metadata": {},
   "outputs": [],
   "source": [
    "df <- eval_data_df %>%\n",
    "    select(\n",
    "        indiv_id,\n",
    "        x,\n",
    "        y\n",
    "    )"
   ]
  },
  {
   "cell_type": "code",
   "execution_count": 19,
   "id": "27181cfc-428d-44f8-b878-668f7a010b49",
   "metadata": {},
   "outputs": [],
   "source": [
    "preds_df <- post_predictions(tidy_draws_long_df, df, n_post = 100)"
   ]
  },
  {
   "cell_type": "code",
   "execution_count": 20,
   "id": "9663c1ba-cac6-475c-9d8b-f6b315e5c2d1",
   "metadata": {},
   "outputs": [
    {
     "data": {
      "text/html": [
       "<table class=\"dataframe\">\n",
       "<caption>A tibble: 1 × 2</caption>\n",
       "<thead>\n",
       "\t<tr><th scope=col>rmse</th><th scope=col>mean_resid</th></tr>\n",
       "\t<tr><th scope=col>&lt;dbl&gt;</th><th scope=col>&lt;dbl&gt;</th></tr>\n",
       "</thead>\n",
       "<tbody>\n",
       "\t<tr><td>0.7905381</td><td>0.5600834</td></tr>\n",
       "</tbody>\n",
       "</table>\n"
      ],
      "text/latex": [
       "A tibble: 1 × 2\n",
       "\\begin{tabular}{ll}\n",
       " rmse & mean\\_resid\\\\\n",
       " <dbl> & <dbl>\\\\\n",
       "\\hline\n",
       "\t 0.7905381 & 0.5600834\\\\\n",
       "\\end{tabular}\n"
      ],
      "text/markdown": [
       "\n",
       "A tibble: 1 × 2\n",
       "\n",
       "| rmse &lt;dbl&gt; | mean_resid &lt;dbl&gt; |\n",
       "|---|---|\n",
       "| 0.7905381 | 0.5600834 |\n",
       "\n"
      ],
      "text/plain": [
       "  rmse      mean_resid\n",
       "1 0.7905381 0.5600834 "
      ]
     },
     "metadata": {},
     "output_type": "display_data"
    }
   ],
   "source": [
    "preds_df %>%\n",
    "    mutate(\n",
    "        se = (y - yhat)^2,\n",
    "        resid = y - yhat\n",
    "    ) %>%\n",
    "    summarize(\n",
    "        rmse = sqrt( mean(se) ),\n",
    "        mean_resid = mean( abs(resid) )\n",
    "    )"
   ]
  },
  {
   "cell_type": "code",
   "execution_count": null,
   "id": "68143efc-a534-43fd-9b90-ab209bda0d8d",
   "metadata": {},
   "outputs": [],
   "source": []
  }
 ],
 "metadata": {
  "kernelspec": {
   "display_name": "R",
   "language": "R",
   "name": "ir"
  },
  "language_info": {
   "codemirror_mode": "r",
   "file_extension": ".r",
   "mimetype": "text/x-r-source",
   "name": "R",
   "pygments_lexer": "r",
   "version": "4.3.1"
  }
 },
 "nbformat": 4,
 "nbformat_minor": 5
}
