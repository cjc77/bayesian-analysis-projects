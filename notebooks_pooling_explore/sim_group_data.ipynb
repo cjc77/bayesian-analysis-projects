{
 "cells": [
  {
   "cell_type": "markdown",
   "id": "c181161a-0e6a-4c04-bd78-4fd9bad19575",
   "metadata": {},
   "source": [
    "Based on: https://mc-stan.org/users/documentation/case-studies/pool-binary-trials.html"
   ]
  },
  {
   "cell_type": "code",
   "execution_count": 1,
   "id": "a640aebf-067f-4ef8-96fb-fe429bf4d08f",
   "metadata": {},
   "outputs": [
    {
     "name": "stderr",
     "output_type": "stream",
     "text": [
      "── \u001b[1mAttaching core tidyverse packages\u001b[22m ──────────────────────────────────────────────────────────────── tidyverse 2.0.0 ──\n",
      "\u001b[32m✔\u001b[39m \u001b[34mdplyr    \u001b[39m 1.1.3     \u001b[32m✔\u001b[39m \u001b[34mreadr    \u001b[39m 2.1.4\n",
      "\u001b[32m✔\u001b[39m \u001b[34mforcats  \u001b[39m 1.0.0     \u001b[32m✔\u001b[39m \u001b[34mstringr  \u001b[39m 1.5.0\n",
      "\u001b[32m✔\u001b[39m \u001b[34mggplot2  \u001b[39m 3.4.4     \u001b[32m✔\u001b[39m \u001b[34mtibble   \u001b[39m 3.2.1\n",
      "\u001b[32m✔\u001b[39m \u001b[34mlubridate\u001b[39m 1.9.3     \u001b[32m✔\u001b[39m \u001b[34mtidyr    \u001b[39m 1.3.0\n",
      "\u001b[32m✔\u001b[39m \u001b[34mpurrr    \u001b[39m 1.0.2     \n",
      "── \u001b[1mConflicts\u001b[22m ────────────────────────────────────────────────────────────────────────────────── tidyverse_conflicts() ──\n",
      "\u001b[31m✖\u001b[39m \u001b[34mdplyr\u001b[39m::\u001b[32mfilter()\u001b[39m masks \u001b[34mstats\u001b[39m::filter()\n",
      "\u001b[31m✖\u001b[39m \u001b[34mdplyr\u001b[39m::\u001b[32mlag()\u001b[39m    masks \u001b[34mstats\u001b[39m::lag()\n",
      "\u001b[36mℹ\u001b[39m Use the conflicted package (\u001b[3m\u001b[34m<http://conflicted.r-lib.org/>\u001b[39m\u001b[23m) to force all conflicts to become errors\n"
     ]
    }
   ],
   "source": [
    "library(tidyverse)\n",
    "library(yaml)"
   ]
  },
  {
   "cell_type": "code",
   "execution_count": 2,
   "id": "2ee32fc9-0869-4112-ae60-aad095d02548",
   "metadata": {},
   "outputs": [],
   "source": [
    "data_config_id <- \"pooling_sim\""
   ]
  },
  {
   "cell_type": "code",
   "execution_count": 3,
   "id": "ebfe2ad0-a542-4fef-abba-39cb1a22bdbc",
   "metadata": {},
   "outputs": [],
   "source": [
    "data_config <- yaml.load_file(paste0(\"../data/configs/\", data_config_id, \"/data.yaml\"))"
   ]
  },
  {
   "cell_type": "code",
   "execution_count": 4,
   "id": "1312d0d6-e8db-495c-ab29-a4bc51808a6b",
   "metadata": {},
   "outputs": [],
   "source": [
    "data_base_dir <- paste0(\"../\", data_config$output_dir)\n",
    "data_path <- paste0(data_base_dir, \"/data.csv\")\n",
    "if (!dir.exists(data_base_dir)) {\n",
    "    dir.create(data_base_dir, recursive = TRUE)\n",
    "}"
   ]
  },
  {
   "cell_type": "code",
   "execution_count": 5,
   "id": "d940e70e-a101-49b4-9996-08f3ce052825",
   "metadata": {},
   "outputs": [],
   "source": [
    "N_per_group <- data_config$N_per_group\n",
    "N_groups <- data_config$N_groups\n",
    "N_obs <- N_groups * N_per_group\n",
    "\n",
    "beta_0 <- data_config$beta_0\n",
    "beta_1 <- data_config$beta_1\n",
    "sigma_group <- data_config$sigma_group\n",
    "sigma_individual <- data_config$sigma_individual\n",
    "\n",
    "min_x <- data_config$min_x\n",
    "max_x <- data_config$max_x\n",
    "\n",
    "data_seed <- data_config$data_seed"
   ]
  },
  {
   "cell_type": "markdown",
   "id": "3cf6980a-5203-497f-a6e2-4607be10f49e",
   "metadata": {},
   "source": [
    "Our true data generating process\n",
    "\n",
    "$y_{ij} = \\beta_{0} + \\beta_{1} X_{ij} + u_{0j} + e_{ij}$\n",
    "\n",
    "Where:\n",
    "- $y_{ij} \\sim \\mathcal{N}(\\beta_{0} + \\beta_{1} X_{ij} + u_{0j}, \\sigma_{\\text{student}}^2)$ = response variable individual $i$ in group $j$\n",
    "- $u_{0j} \\sim \\mathcal{N}(0, \\sigma_{\\text{class}}^2)$ = the group-level effect for group $j$\n",
    "- $e_{ij} \\sim \\mathcal{N}(0, \\sigma_{\\text{student}}^2)$ = the individual-level residual error term $i$\n",
    "- $X_{ij}$ = observed measurement for individual $i$ in group $j$"
   ]
  },
  {
   "cell_type": "markdown",
   "id": "9827a407-5aed-4adf-be17-e5462cb1825e",
   "metadata": {},
   "source": [
    "## Simulate data"
   ]
  },
  {
   "cell_type": "code",
   "execution_count": 6,
   "id": "f99e943b-52fc-4725-81bd-fb99616b4a7d",
   "metadata": {},
   "outputs": [],
   "source": [
    "set.seed(data_seed)"
   ]
  },
  {
   "cell_type": "code",
   "execution_count": 7,
   "id": "682e6962-03f8-4be5-ae34-71b9794603c6",
   "metadata": {},
   "outputs": [],
   "source": [
    "data_df <- tibble(\n",
    "        group_id = 1:N_groups,\n",
    "        group_effect = rnorm(N_groups, 0, sigma_group)\n",
    "    ) %>%\n",
    "    inner_join(\n",
    "        tibble(\n",
    "            group_id = rep(1:N_groups, each=N_per_group),\n",
    "            x = runif(N_obs, min = min_x, max = max_x),\n",
    "            obs_error_term = rnorm(N_obs, mean = 0, sd = sigma_individual),\n",
    "            obs_id = 1:N_obs\n",
    "        ),\n",
    "        by=\"group_id\"\n",
    "    ) %>%\n",
    "    mutate(\n",
    "        y = beta_0 + beta_1 * x + group_effect + obs_error_term\n",
    "    )"
   ]
  },
  {
   "cell_type": "code",
   "execution_count": 8,
   "id": "6ef1fbac-1a33-48da-89c7-6666d20e133a",
   "metadata": {},
   "outputs": [],
   "source": [
    "data_df %>%\n",
    "    write_csv(data_path)"
   ]
  },
  {
   "cell_type": "code",
   "execution_count": 9,
   "id": "cb21c3de-43d2-475e-908d-1f3609eb85c2",
   "metadata": {},
   "outputs": [
    {
     "data": {
      "text/html": [
       "<style>\n",
       ".dl-inline {width: auto; margin:0; padding: 0}\n",
       ".dl-inline>dt, .dl-inline>dd {float: none; width: auto; display: inline-block}\n",
       ".dl-inline>dt::after {content: \":\\0020\"; padding-right: .5ex}\n",
       ".dl-inline>dt:not(:first-of-type) {padding-left: .5ex}\n",
       "</style><dl class=dl-inline><dt>0%</dt><dd>140.638484286051</dd><dt>25%</dt><dd>172.614179294438</dd><dt>50%</dt><dd>180.129783679248</dd><dt>75%</dt><dd>189.658221124027</dd><dt>100%</dt><dd>210.244569939611</dd></dl>\n"
      ],
      "text/latex": [
       "\\begin{description*}\n",
       "\\item[0\\textbackslash{}\\%] 140.638484286051\n",
       "\\item[25\\textbackslash{}\\%] 172.614179294438\n",
       "\\item[50\\textbackslash{}\\%] 180.129783679248\n",
       "\\item[75\\textbackslash{}\\%] 189.658221124027\n",
       "\\item[100\\textbackslash{}\\%] 210.244569939611\n",
       "\\end{description*}\n"
      ],
      "text/markdown": [
       "0%\n",
       ":   140.63848428605125%\n",
       ":   172.61417929443850%\n",
       ":   180.12978367924875%\n",
       ":   189.658221124027100%\n",
       ":   210.244569939611\n",
       "\n"
      ],
      "text/plain": [
       "      0%      25%      50%      75%     100% \n",
       "140.6385 172.6142 180.1298 189.6582 210.2446 "
      ]
     },
     "metadata": {},
     "output_type": "display_data"
    }
   ],
   "source": [
    "data_df %>% pull(y) %>% quantile()"
   ]
  }
 ],
 "metadata": {
  "kernelspec": {
   "display_name": "R",
   "language": "R",
   "name": "ir"
  },
  "language_info": {
   "codemirror_mode": "r",
   "file_extension": ".r",
   "mimetype": "text/x-r-source",
   "name": "R",
   "pygments_lexer": "r",
   "version": "4.3.1"
  }
 },
 "nbformat": 4,
 "nbformat_minor": 5
}
