{
 "cells": [
  {
   "cell_type": "code",
   "execution_count": 1,
   "id": "5f3a69b2-a637-4708-af63-6749d2a24139",
   "metadata": {},
   "outputs": [
    {
     "name": "stderr",
     "output_type": "stream",
     "text": [
      "── \u001b[1mAttaching core tidyverse packages\u001b[22m ──────────────────────────────────────────────────────────────── tidyverse 2.0.0 ──\n",
      "\u001b[32m✔\u001b[39m \u001b[34mdplyr    \u001b[39m 1.1.3     \u001b[32m✔\u001b[39m \u001b[34mreadr    \u001b[39m 2.1.4\n",
      "\u001b[32m✔\u001b[39m \u001b[34mforcats  \u001b[39m 1.0.0     \u001b[32m✔\u001b[39m \u001b[34mstringr  \u001b[39m 1.5.0\n",
      "\u001b[32m✔\u001b[39m \u001b[34mggplot2  \u001b[39m 3.4.4     \u001b[32m✔\u001b[39m \u001b[34mtibble   \u001b[39m 3.2.1\n",
      "\u001b[32m✔\u001b[39m \u001b[34mlubridate\u001b[39m 1.9.3     \u001b[32m✔\u001b[39m \u001b[34mtidyr    \u001b[39m 1.3.0\n",
      "\u001b[32m✔\u001b[39m \u001b[34mpurrr    \u001b[39m 1.0.2     \n",
      "── \u001b[1mConflicts\u001b[22m ────────────────────────────────────────────────────────────────────────────────── tidyverse_conflicts() ──\n",
      "\u001b[31m✖\u001b[39m \u001b[34mdplyr\u001b[39m::\u001b[32mfilter()\u001b[39m masks \u001b[34mstats\u001b[39m::filter()\n",
      "\u001b[31m✖\u001b[39m \u001b[34mdplyr\u001b[39m::\u001b[32mlag()\u001b[39m    masks \u001b[34mstats\u001b[39m::lag()\n",
      "\u001b[36mℹ\u001b[39m Use the conflicted package (\u001b[3m\u001b[34m<http://conflicted.r-lib.org/>\u001b[39m\u001b[23m) to force all conflicts to become errors\n",
      "Loading required package: StanHeaders\n",
      "\n",
      "\n",
      "rstan version 2.32.3 (Stan version 2.26.1)\n",
      "\n",
      "\n",
      "For execution on a local, multicore CPU with excess RAM we recommend calling\n",
      "options(mc.cores = parallel::detectCores()).\n",
      "To avoid recompilation of unchanged Stan programs, we recommend calling\n",
      "rstan_options(auto_write = TRUE)\n",
      "For within-chain threading using `reduce_sum()` or `map_rect()` Stan functions,\n",
      "change `threads_per_chain` option:\n",
      "rstan_options(threads_per_chain = 1)\n",
      "\n",
      "\n",
      "\n",
      "Attaching package: ‘rstan’\n",
      "\n",
      "\n",
      "The following object is masked from ‘package:tidyr’:\n",
      "\n",
      "    extract\n",
      "\n",
      "\n"
     ]
    }
   ],
   "source": [
    "library(tidyverse)\n",
    "library(yaml)\n",
    "library(rstan)\n",
    "library(tidybayes)"
   ]
  },
  {
   "cell_type": "markdown",
   "id": "d4d34220-4d60-4d22-a4ff-200ea7d7baf7",
   "metadata": {},
   "source": [
    "## Config and data"
   ]
  },
  {
   "cell_type": "code",
   "execution_count": 2,
   "id": "389e5368-596d-4709-95db-fddf3b3cd220",
   "metadata": {},
   "outputs": [],
   "source": [
    "config_id <- \"pooling_sim_no_pool\"\n",
    "data_config_id <- \"pooling_sim\""
   ]
  },
  {
   "cell_type": "code",
   "execution_count": 3,
   "id": "cdca8dd5-8d42-41c5-bb16-dd579408148b",
   "metadata": {},
   "outputs": [],
   "source": [
    "data_config <- yaml.load_file(paste0(\"../data/configs/\", data_config_id, \"/data.yaml\"))\n",
    "main_config <- yaml.load_file(paste0(\"../experiments/configs/\", config_id, \"/main.yaml\"))"
   ]
  },
  {
   "cell_type": "code",
   "execution_count": 4,
   "id": "367eefd3-bdd1-4892-a97e-92e123b662ac",
   "metadata": {},
   "outputs": [],
   "source": [
    "results_base_dir <- paste0(\"../experiments/results/\", config_id)\n",
    "if (!dir.exists(results_base_dir)) {\n",
    "    dir.create(results_base_dir, recursive = TRUE)\n",
    "}"
   ]
  },
  {
   "cell_type": "markdown",
   "id": "c23c1fc5-1181-4925-a4a7-07bb47e856da",
   "metadata": {},
   "source": [
    "### Data"
   ]
  },
  {
   "cell_type": "code",
   "execution_count": 5,
   "id": "5a2fc917-12f2-4d2c-b1e9-38004afa8c1b",
   "metadata": {},
   "outputs": [],
   "source": [
    "data_base_dir <- paste0(\"../\", data_config$output_dir)\n",
    "data_path <- paste0(data_base_dir, \"/data.csv\")\n",
    "beta_0 <- data_config$beta_0\n",
    "beta_1 <- data_config$beta_1"
   ]
  },
  {
   "cell_type": "code",
   "execution_count": 6,
   "id": "5a762d6d-d03c-40f1-a2e0-2d18ff836360",
   "metadata": {},
   "outputs": [
    {
     "name": "stderr",
     "output_type": "stream",
     "text": [
      "\u001b[1mRows: \u001b[22m\u001b[34m4400\u001b[39m \u001b[1mColumns: \u001b[22m\u001b[34m8\u001b[39m\n",
      "\u001b[36m──\u001b[39m \u001b[1mColumn specification\u001b[22m \u001b[36m────────────────────────────────────────────────────────────────────────────────────────────────\u001b[39m\n",
      "\u001b[1mDelimiter:\u001b[22m \",\"\n",
      "\u001b[32mdbl\u001b[39m (8): group_id, group_effect, x, indiv_effect, indiv_id, measurement_id, ...\n",
      "\n",
      "\u001b[36mℹ\u001b[39m Use `spec()` to retrieve the full column specification for this data.\n",
      "\u001b[36mℹ\u001b[39m Specify the column types or set `show_col_types = FALSE` to quiet this message.\n"
     ]
    }
   ],
   "source": [
    "data_df <- read_csv(data_path)\n",
    "fit_data_df <- data_df %>%\n",
    "    filter(measurement_id < 11)\n",
    "eval_data_df <- data_df %>%\n",
    "    filter(measurement_id == 11)"
   ]
  },
  {
   "cell_type": "markdown",
   "id": "52f2d766-f2d1-4836-ba88-ed0214a82fed",
   "metadata": {},
   "source": [
    "### Model"
   ]
  },
  {
   "cell_type": "code",
   "execution_count": 7,
   "id": "3a93b99f-7a32-432c-bbc8-e17813c91105",
   "metadata": {},
   "outputs": [],
   "source": [
    "model_seed <- main_config$seed\n",
    "n_samp <- main_config$n_samp\n",
    "n_warmup_samp <- main_config$n_warmup_samp\n",
    "n_chains <- main_config$n_chains\n",
    "model_file_path <- paste0(\"../\", main_config$model_file_path)"
   ]
  },
  {
   "cell_type": "markdown",
   "id": "c12a3523-4a17-43b0-abef-e00bb81446bd",
   "metadata": {},
   "source": [
    "## Model fitting"
   ]
  },
  {
   "cell_type": "markdown",
   "id": "7ef10157-a9b7-47b4-bc4e-116851ab99d5",
   "metadata": {},
   "source": [
    "Note that we are only doing \"no pooling\" for the intercept. We assume a fixed slope."
   ]
  },
  {
   "cell_type": "code",
   "execution_count": 8,
   "id": "35717071-8c4c-42e1-a72a-c1bf3385c347",
   "metadata": {},
   "outputs": [],
   "source": [
    "stan_data <- list(\n",
    "    N = eval_data_df %>% nrow(),\n",
    "    n_indiv = eval_data_df %>% distinct(indiv_id) %>% nrow(),\n",
    "    y = eval_data_df %>% pull(y),\n",
    "    x = eval_data_df %>% pull(x),\n",
    "    indiv_id = eval_data_df %>% pull(indiv_id)\n",
    ")"
   ]
  },
  {
   "cell_type": "code",
   "execution_count": 9,
   "id": "21cf095a-2915-45c0-911c-3e4cf3510e9a",
   "metadata": {},
   "outputs": [
    {
     "name": "stderr",
     "output_type": "stream",
     "text": [
      "\u001b[1mRows: \u001b[22m\u001b[34m1600000\u001b[39m \u001b[1mColumns: \u001b[22m\u001b[34m6\u001b[39m\n",
      "\u001b[36m──\u001b[39m \u001b[1mColumn specification\u001b[22m \u001b[36m────────────────────────────────────────────────────────────────────────────────────────────────\u001b[39m\n",
      "\u001b[1mDelimiter:\u001b[22m \",\"\n",
      "\u001b[32mdbl\u001b[39m (6): i, beta_0, .chain, .iteration, .draw, beta_1\n",
      "\n",
      "\u001b[36mℹ\u001b[39m Use `spec()` to retrieve the full column specification for this data.\n",
      "\u001b[36mℹ\u001b[39m Specify the column types or set `show_col_types = FALSE` to quiet this message.\n"
     ]
    }
   ],
   "source": [
    "if (!file.exists(paste0(results_base_dir, \"/fit.rds\"))) {\n",
    "    fit <- stan(\n",
    "        file = model_file_path,\n",
    "        data = stan_data,\n",
    "        chains = n_chains,\n",
    "        iter = n_samp,\n",
    "        warmup = n_warmup_samp,\n",
    "        seed = model_seed,\n",
    "        cores = n_chains,\n",
    "        pars = c(\"beta_0\", \"beta_1\"),\n",
    "        include = TRUE\n",
    "    )\n",
    "    saveRDS(fit, paste0(results_base_dir, \"/fit.rds\"))\n",
    "    \n",
    "    tidy_draws_df <- fit %>% tidybayes::spread_draws(beta_0[i], beta_1)\n",
    "    tidy_draws_df %>%\n",
    "        write_csv(paste0(results_base_dir, \"/draws.csv\"))\n",
    "} else {\n",
    "    fit <- readRDS(paste0(results_base_dir, \"/fit.rds\"))\n",
    "    tidy_draws_df <- read_csv(paste0(results_base_dir, \"/draws.csv\"))\n",
    "}"
   ]
  },
  {
   "cell_type": "code",
   "execution_count": 10,
   "id": "99cd0832-5ada-4712-83d3-e062e7d39c5e",
   "metadata": {},
   "outputs": [],
   "source": [
    "tidy_draws_long_df <- tidy_draws_df %>%\n",
    "    pivot_longer(cols = !c(\".chain\", \".iteration\", \".draw\", \"i\"), names_to = \"param\") %>%\n",
    "    ungroup() %>%\n",
    "    rename(indiv_id = i)"
   ]
  },
  {
   "cell_type": "code",
   "execution_count": 11,
   "id": "f0d467fc-7813-4117-a6e6-d6e038406a5c",
   "metadata": {},
   "outputs": [],
   "source": [
    "fit_summary <- summary(fit)"
   ]
  },
  {
   "cell_type": "code",
   "execution_count": 12,
   "id": "baa822a3-087f-4c16-beee-59a8a97d9410",
   "metadata": {},
   "outputs": [
    {
     "data": {
      "text/html": [
       "<table class=\"dataframe\">\n",
       "<caption>A tibble: 1 × 11</caption>\n",
       "<thead>\n",
       "\t<tr><th scope=col>param</th><th scope=col>mean</th><th scope=col>se_mean</th><th scope=col>sd</th><th scope=col>2.5%</th><th scope=col>25%</th><th scope=col>50%</th><th scope=col>75%</th><th scope=col>97.5%</th><th scope=col>n_eff</th><th scope=col>Rhat</th></tr>\n",
       "\t<tr><th scope=col>&lt;chr&gt;</th><th scope=col>&lt;dbl&gt;</th><th scope=col>&lt;dbl&gt;</th><th scope=col>&lt;dbl&gt;</th><th scope=col>&lt;dbl&gt;</th><th scope=col>&lt;dbl&gt;</th><th scope=col>&lt;dbl&gt;</th><th scope=col>&lt;dbl&gt;</th><th scope=col>&lt;dbl&gt;</th><th scope=col>&lt;dbl&gt;</th><th scope=col>&lt;dbl&gt;</th></tr>\n",
       "</thead>\n",
       "<tbody>\n",
       "\t<tr><td>beta_1</td><td>0.3201745</td><td>0.0001373236</td><td>0.005557532</td><td>0.3092499</td><td>0.3163696</td><td>0.3201761</td><td>0.3238911</td><td>0.3311739</td><td>1637.847</td><td>0.9994254</td></tr>\n",
       "</tbody>\n",
       "</table>\n"
      ],
      "text/latex": [
       "A tibble: 1 × 11\n",
       "\\begin{tabular}{lllllllllll}\n",
       " param & mean & se\\_mean & sd & 2.5\\% & 25\\% & 50\\% & 75\\% & 97.5\\% & n\\_eff & Rhat\\\\\n",
       " <chr> & <dbl> & <dbl> & <dbl> & <dbl> & <dbl> & <dbl> & <dbl> & <dbl> & <dbl> & <dbl>\\\\\n",
       "\\hline\n",
       "\t beta\\_1 & 0.3201745 & 0.0001373236 & 0.005557532 & 0.3092499 & 0.3163696 & 0.3201761 & 0.3238911 & 0.3311739 & 1637.847 & 0.9994254\\\\\n",
       "\\end{tabular}\n"
      ],
      "text/markdown": [
       "\n",
       "A tibble: 1 × 11\n",
       "\n",
       "| param &lt;chr&gt; | mean &lt;dbl&gt; | se_mean &lt;dbl&gt; | sd &lt;dbl&gt; | 2.5% &lt;dbl&gt; | 25% &lt;dbl&gt; | 50% &lt;dbl&gt; | 75% &lt;dbl&gt; | 97.5% &lt;dbl&gt; | n_eff &lt;dbl&gt; | Rhat &lt;dbl&gt; |\n",
       "|---|---|---|---|---|---|---|---|---|---|---|\n",
       "| beta_1 | 0.3201745 | 0.0001373236 | 0.005557532 | 0.3092499 | 0.3163696 | 0.3201761 | 0.3238911 | 0.3311739 | 1637.847 | 0.9994254 |\n",
       "\n"
      ],
      "text/plain": [
       "  param  mean      se_mean      sd          2.5%      25%       50%      \n",
       "1 beta_1 0.3201745 0.0001373236 0.005557532 0.3092499 0.3163696 0.3201761\n",
       "  75%       97.5%     n_eff    Rhat     \n",
       "1 0.3238911 0.3311739 1637.847 0.9994254"
      ]
     },
     "metadata": {},
     "output_type": "display_data"
    }
   ],
   "source": [
    "fit_summary$summary %>%\n",
    "    as_tibble(rownames = \"param\") %>%\n",
    "    filter(param == \"beta_1\")"
   ]
  },
  {
   "cell_type": "code",
   "execution_count": 13,
   "id": "ea5dbc2b-786a-46d9-8f0b-05f9356a8ebc",
   "metadata": {},
   "outputs": [
    {
     "data": {
      "text/html": [
       "<table class=\"dataframe\">\n",
       "<caption>A tibble: 1 × 3</caption>\n",
       "<thead>\n",
       "\t<tr><th scope=col>Rhat_min</th><th scope=col>Rhat_max</th><th scope=col>Rhat_mean</th></tr>\n",
       "\t<tr><th scope=col>&lt;dbl&gt;</th><th scope=col>&lt;dbl&gt;</th><th scope=col>&lt;dbl&gt;</th></tr>\n",
       "</thead>\n",
       "<tbody>\n",
       "\t<tr><td>0.9990508</td><td>1.002655</td><td>0.9997853</td></tr>\n",
       "</tbody>\n",
       "</table>\n"
      ],
      "text/latex": [
       "A tibble: 1 × 3\n",
       "\\begin{tabular}{lll}\n",
       " Rhat\\_min & Rhat\\_max & Rhat\\_mean\\\\\n",
       " <dbl> & <dbl> & <dbl>\\\\\n",
       "\\hline\n",
       "\t 0.9990508 & 1.002655 & 0.9997853\\\\\n",
       "\\end{tabular}\n"
      ],
      "text/markdown": [
       "\n",
       "A tibble: 1 × 3\n",
       "\n",
       "| Rhat_min &lt;dbl&gt; | Rhat_max &lt;dbl&gt; | Rhat_mean &lt;dbl&gt; |\n",
       "|---|---|---|\n",
       "| 0.9990508 | 1.002655 | 0.9997853 |\n",
       "\n"
      ],
      "text/plain": [
       "  Rhat_min  Rhat_max Rhat_mean\n",
       "1 0.9990508 1.002655 0.9997853"
      ]
     },
     "metadata": {},
     "output_type": "display_data"
    }
   ],
   "source": [
    "fit_summary$summary %>%\n",
    "    as_tibble(rownames=\"param\") %>%\n",
    "    arrange(desc(Rhat)) %>%\n",
    "    filter(str_starts(param, \"beta_0\")) %>%\n",
    "    summarize(\n",
    "        Rhat_min = min(Rhat),\n",
    "        Rhat_max = max(Rhat),\n",
    "        Rhat_mean = mean(Rhat)\n",
    "    )"
   ]
  },
  {
   "cell_type": "code",
   "execution_count": 14,
   "id": "eb52c0e4-fc35-42ab-8d26-c966db0d8a70",
   "metadata": {},
   "outputs": [],
   "source": [
    "set_theme_elements <- function(plt) {\n",
    "    plt +\n",
    "        theme_classic() +\n",
    "        theme(text = element_text(size=16))\n",
    "}\n",
    "\n",
    "# Settings for plots\n",
    "options(repr.plot.width = 16, repr.plot.height = 8, repr.plot.res = 100)"
   ]
  },
  {
   "cell_type": "code",
   "execution_count": 15,
   "id": "f23ac160-32c8-4b8b-8909-86007852341f",
   "metadata": {},
   "outputs": [
    {
     "data": {
      "image/png": "[encoded data removed]",
      "text/plain": [
       "plot without title"
      ]
     },
     "metadata": {
      "image/png": {
       "height": 400,
       "width": 800
      }
     },
     "output_type": "display_data"
    }
   ],
   "source": [
    "# TODO: improve this plot\n",
    "\n",
    "plt <- fit_summary$summary %>%\n",
    "    as_tibble(rownames=\"param\") %>%\n",
    "    arrange(desc(Rhat)) %>%\n",
    "    filter(str_starts(param, \"beta_0\")) %>%\n",
    "    ggplot() +\n",
    "    geom_density(aes(x = Rhat)) +\n",
    "    geom_jitter(aes(x = Rhat, y = -5), width = 0, height = 3)\n",
    "plt <- plt %>%\n",
    "    set_theme_elements()\n",
    "plt"
   ]
  },
  {
   "cell_type": "code",
   "execution_count": 16,
   "id": "a4497f0d-2de4-4cd6-bb01-c2cee3f0f914",
   "metadata": {},
   "outputs": [],
   "source": [
    "post_predictions <- function(samp_df, x_df, n_post = 100) {\n",
    "    # Perform sampling of beta_0 separately for all individuals \n",
    "    # since there is no pooling for this parameter\n",
    "    beta_0_df <- samp_df %>%\n",
    "        group_by(indiv_id, param) %>%\n",
    "        slice_sample(n = n_post, replace = TRUE) %>%\n",
    "        mutate(sample_id = 1:n()) %>%\n",
    "        ungroup() %>%\n",
    "        pivot_wider(id_cols = c(\"indiv_id\", \"sample_id\"), names_from = \"param\", values_from = \"value\") %>%\n",
    "        rename(betahat_0 = beta_0, betahat_1 = beta_1) %>%\n",
    "        # # Use many-to-many if there are multiple measurements per individual\n",
    "        # # in the evaluation set\n",
    "        # inner_join(x_df, by = \"indiv_id\", relationship = \"many-to-many\") %>%\n",
    "        inner_join(x_df, by = \"indiv_id\") %>%\n",
    "        mutate(yhat = betahat_0 + betahat_1 * x)\n",
    "\n",
    "    # Perform sampling of beta_1 jointly for all individuals\n",
    "    # since this parameter is fully pooled\n",
    "    beta_1_df <- samp_df %>%\n",
    "        filter(param == \"beta_1\") %>%\n",
    "        select(-c(indiv_id)) %>%\n",
    "        distinct() %>%\n",
    "        slice_sample(n = n_post, replace = TRUE) %>%\n",
    "        mutate(sample_id = 1:n()) %>%\n",
    "        pivot_wider(id_cols = c(\"sample_id\"), names_from = \"param\", values_from = \"value\")\n",
    "\n",
    "    beta_0_df %>%\n",
    "        inner_join(beta_1_df, by = \"sample_id\")\n",
    "}"
   ]
  },
  {
   "cell_type": "code",
   "execution_count": 17,
   "id": "1ee9477b-bacd-49c5-b239-a531880b737b",
   "metadata": {},
   "outputs": [],
   "source": [
    "df <- eval_data_df %>%\n",
    "    select(\n",
    "        indiv_id,\n",
    "        x,\n",
    "        y\n",
    "    )"
   ]
  },
  {
   "cell_type": "code",
   "execution_count": 18,
   "id": "1bbd7d5d-d219-4a12-bb9f-69b8c22e00c3",
   "metadata": {},
   "outputs": [],
   "source": [
    "preds_df <- post_predictions(tidy_draws_long_df, df, n_post = 100)"
   ]
  },
  {
   "cell_type": "code",
   "execution_count": 19,
   "id": "61331377-7aed-4c3b-a0a8-e02aa073700f",
   "metadata": {},
   "outputs": [
    {
     "data": {
      "text/html": [
       "<table class=\"dataframe\">\n",
       "<caption>A tibble: 1 × 2</caption>\n",
       "<thead>\n",
       "\t<tr><th scope=col>rmse</th><th scope=col>mean_resid</th></tr>\n",
       "\t<tr><th scope=col>&lt;dbl&gt;</th><th scope=col>&lt;dbl&gt;</th></tr>\n",
       "</thead>\n",
       "<tbody>\n",
       "\t<tr><td>5.711517</td><td>4.523283</td></tr>\n",
       "</tbody>\n",
       "</table>\n"
      ],
      "text/latex": [
       "A tibble: 1 × 2\n",
       "\\begin{tabular}{ll}\n",
       " rmse & mean\\_resid\\\\\n",
       " <dbl> & <dbl>\\\\\n",
       "\\hline\n",
       "\t 5.711517 & 4.523283\\\\\n",
       "\\end{tabular}\n"
      ],
      "text/markdown": [
       "\n",
       "A tibble: 1 × 2\n",
       "\n",
       "| rmse &lt;dbl&gt; | mean_resid &lt;dbl&gt; |\n",
       "|---|---|\n",
       "| 5.711517 | 4.523283 |\n",
       "\n"
      ],
      "text/plain": [
       "  rmse     mean_resid\n",
       "1 5.711517 4.523283  "
      ]
     },
     "metadata": {},
     "output_type": "display_data"
    }
   ],
   "source": [
    "preds_df %>%\n",
    "    mutate(\n",
    "        se = (y - yhat)^2,\n",
    "        resid = y - yhat\n",
    "    ) %>%\n",
    "    summarize(\n",
    "        rmse = sqrt( mean(se) ),\n",
    "        mean_resid = mean( abs(resid) )\n",
    "    )"
   ]
  },
  {
   "cell_type": "code",
   "execution_count": null,
   "id": "56691bd9-7a6d-4734-9ac8-0be43efe69fd",
   "metadata": {},
   "outputs": [],
   "source": []
  }
 ],
 "metadata": {
  "kernelspec": {
   "display_name": "R",
   "language": "R",
   "name": "ir"
  },
  "language_info": {
   "codemirror_mode": "r",
   "file_extension": ".r",
   "mimetype": "text/x-r-source",
   "name": "R",
   "pygments_lexer": "r",
   "version": "4.3.1"
  }
 },
 "nbformat": 4,
 "nbformat_minor": 5
}
