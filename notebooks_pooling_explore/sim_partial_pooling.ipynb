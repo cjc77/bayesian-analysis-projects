{
 "cells": [
  {
   "cell_type": "code",
   "execution_count": 1,
   "id": "d607bd2d-dff7-4d45-852f-34b62887f87e",
   "metadata": {},
   "outputs": [
    {
     "name": "stderr",
     "output_type": "stream",
     "text": [
      "── \u001b[1mAttaching core tidyverse packages\u001b[22m ──────────────────────────────────────────────────────────────── tidyverse 2.0.0 ──\n",
      "\u001b[32m✔\u001b[39m \u001b[34mdplyr    \u001b[39m 1.1.3     \u001b[32m✔\u001b[39m \u001b[34mreadr    \u001b[39m 2.1.4\n",
      "\u001b[32m✔\u001b[39m \u001b[34mforcats  \u001b[39m 1.0.0     \u001b[32m✔\u001b[39m \u001b[34mstringr  \u001b[39m 1.5.0\n",
      "\u001b[32m✔\u001b[39m \u001b[34mggplot2  \u001b[39m 3.4.4     \u001b[32m✔\u001b[39m \u001b[34mtibble   \u001b[39m 3.2.1\n",
      "\u001b[32m✔\u001b[39m \u001b[34mlubridate\u001b[39m 1.9.3     \u001b[32m✔\u001b[39m \u001b[34mtidyr    \u001b[39m 1.3.0\n",
      "\u001b[32m✔\u001b[39m \u001b[34mpurrr    \u001b[39m 1.0.2     \n",
      "── \u001b[1mConflicts\u001b[22m ────────────────────────────────────────────────────────────────────────────────── tidyverse_conflicts() ──\n",
      "\u001b[31m✖\u001b[39m \u001b[34mdplyr\u001b[39m::\u001b[32mfilter()\u001b[39m masks \u001b[34mstats\u001b[39m::filter()\n",
      "\u001b[31m✖\u001b[39m \u001b[34mdplyr\u001b[39m::\u001b[32mlag()\u001b[39m    masks \u001b[34mstats\u001b[39m::lag()\n",
      "\u001b[36mℹ\u001b[39m Use the conflicted package (\u001b[3m\u001b[34m<http://conflicted.r-lib.org/>\u001b[39m\u001b[23m) to force all conflicts to become errors\n",
      "Loading required package: StanHeaders\n",
      "\n",
      "\n",
      "rstan version 2.32.3 (Stan version 2.26.1)\n",
      "\n",
      "\n",
      "For execution on a local, multicore CPU with excess RAM we recommend calling\n",
      "options(mc.cores = parallel::detectCores()).\n",
      "To avoid recompilation of unchanged Stan programs, we recommend calling\n",
      "rstan_options(auto_write = TRUE)\n",
      "For within-chain threading using `reduce_sum()` or `map_rect()` Stan functions,\n",
      "change `threads_per_chain` option:\n",
      "rstan_options(threads_per_chain = 1)\n",
      "\n",
      "\n",
      "\n",
      "Attaching package: ‘rstan’\n",
      "\n",
      "\n",
      "The following object is masked from ‘package:tidyr’:\n",
      "\n",
      "    extract\n",
      "\n",
      "\n"
     ]
    }
   ],
   "source": [
    "library(tidyverse)\n",
    "library(yaml)\n",
    "library(rstan)\n",
    "library(tidybayes)"
   ]
  },
  {
   "cell_type": "markdown",
   "id": "aee775e7-68b7-4c4d-89d9-b0ed579b5e35",
   "metadata": {},
   "source": [
    "## Config and data"
   ]
  },
  {
   "cell_type": "code",
   "execution_count": 2,
   "id": "81c07a4b-0830-4c4e-a4c2-8e160a5323c6",
   "metadata": {},
   "outputs": [],
   "source": [
    "config_id <- \"pooling_sim_partial_pool\"\n",
    "data_config_id <- \"pooling_sim\""
   ]
  },
  {
   "cell_type": "code",
   "execution_count": 3,
   "id": "f50ffbf2-59dc-4ac1-bb8a-3650d9a0adee",
   "metadata": {},
   "outputs": [],
   "source": [
    "data_config <- yaml.load_file(paste0(\"../data/configs/\", data_config_id, \"/data.yaml\"))\n",
    "main_config <- yaml.load_file(paste0(\"../experiments/configs/\", config_id, \"/main.yaml\"))"
   ]
  },
  {
   "cell_type": "code",
   "execution_count": 4,
   "id": "bece350e-7b6e-4177-a653-94cbc41305d7",
   "metadata": {},
   "outputs": [],
   "source": [
    "results_base_dir <- paste0(\"../experiments/results/\", config_id)\n",
    "if (!dir.exists(results_base_dir)) {\n",
    "    dir.create(results_base_dir, recursive = TRUE)\n",
    "}"
   ]
  },
  {
   "cell_type": "markdown",
   "id": "8a9da597-e7aa-4a34-94e0-0af45a90eb22",
   "metadata": {},
   "source": [
    "### Data"
   ]
  },
  {
   "cell_type": "code",
   "execution_count": 5,
   "id": "19fb32bd-cc39-4c13-93fc-7c8d31a6cc0b",
   "metadata": {},
   "outputs": [],
   "source": [
    "data_base_dir <- paste0(\"../\", data_config$output_dir)\n",
    "data_path <- paste0(data_base_dir, \"/data.csv\")\n",
    "beta_0 <- data_config$beta_0\n",
    "beta_1 <- data_config$beta_1"
   ]
  },
  {
   "cell_type": "code",
   "execution_count": 6,
   "id": "d9e6eb85-b638-4cb1-9e77-191994055a32",
   "metadata": {},
   "outputs": [
    {
     "name": "stderr",
     "output_type": "stream",
     "text": [
      "\u001b[1mRows: \u001b[22m\u001b[34m4400\u001b[39m \u001b[1mColumns: \u001b[22m\u001b[34m8\u001b[39m\n",
      "\u001b[36m──\u001b[39m \u001b[1mColumn specification\u001b[22m \u001b[36m────────────────────────────────────────────────────────────────────────────────────────────────\u001b[39m\n",
      "\u001b[1mDelimiter:\u001b[22m \",\"\n",
      "\u001b[32mdbl\u001b[39m (8): group_id, group_effect, x, indiv_effect, indiv_id, measurement_id, ...\n",
      "\n",
      "\u001b[36mℹ\u001b[39m Use `spec()` to retrieve the full column specification for this data.\n",
      "\u001b[36mℹ\u001b[39m Specify the column types or set `show_col_types = FALSE` to quiet this message.\n"
     ]
    }
   ],
   "source": [
    "data_df <- read_csv(data_path)\n",
    "fit_data_df <- data_df %>%\n",
    "    filter(measurement_id < 11)\n",
    "eval_data_df <- data_df %>%\n",
    "    filter(measurement_id == 11)"
   ]
  },
  {
   "cell_type": "markdown",
   "id": "0334a3b1-e0a6-4bb7-a0a9-3ede057326b9",
   "metadata": {},
   "source": [
    "### Model"
   ]
  },
  {
   "cell_type": "code",
   "execution_count": 7,
   "id": "7182aac5-f31d-4505-93fd-4ad72325396b",
   "metadata": {},
   "outputs": [],
   "source": [
    "model_seed <- main_config$seed\n",
    "n_samp <- main_config$n_samp\n",
    "n_warmup_samp <- main_config$n_warmup_samp\n",
    "n_chains <- main_config$n_chains\n",
    "model_file_path <- paste0(\"../\", main_config$model_file_path)"
   ]
  },
  {
   "cell_type": "markdown",
   "id": "43dd0f90-b693-49e2-99fb-1b7541689018",
   "metadata": {},
   "source": [
    "## Model fitting"
   ]
  },
  {
   "cell_type": "markdown",
   "id": "dcfb847b-8c70-4cce-bbf0-86a399f32a7e",
   "metadata": {},
   "source": [
    "Note that we are only doing \"no pooling\" for the intercept. We assume a fixed slope."
   ]
  },
  {
   "cell_type": "code",
   "execution_count": 8,
   "id": "e8ede6b4-2302-4086-bfdc-c1ec3dbd9cc2",
   "metadata": {},
   "outputs": [],
   "source": [
    "stan_data <- list(\n",
    "    N = eval_data_df %>% nrow(),\n",
    "    n_groups = eval_data_df %>% distinct(group_id) %>% nrow(),\n",
    "    y = eval_data_df %>% pull(y),\n",
    "    x = eval_data_df %>% pull(x),\n",
    "    group_id = eval_data_df %>% pull(group_id)\n",
    ")"
   ]
  },
  {
   "cell_type": "code",
   "execution_count": 9,
   "id": "0ceebdef-4b44-4643-a799-5f6936ff8a08",
   "metadata": {},
   "outputs": [],
   "source": [
    "if (!file.exists(paste0(results_base_dir, \"/fit.rds\"))) {\n",
    "    fit <- stan(\n",
    "        file = model_file_path,\n",
    "        data = stan_data,\n",
    "        chains = n_chains,\n",
    "        iter = n_samp,\n",
    "        warmup = n_warmup_samp,\n",
    "        seed = model_seed,\n",
    "        cores = n_chains,\n",
    "        pars = c(\"beta_0\", \"beta_1\"),\n",
    "        include = TRUE\n",
    "    )\n",
    "    saveRDS(fit, paste0(results_base_dir, \"/fit.rds\"))\n",
    "    \n",
    "    tidy_draws_df <- fit %>% tidybayes::spread_draws(beta_0[i], beta_1)\n",
    "    tidy_draws_df %>%\n",
    "        write_csv(paste0(results_base_dir, \"/draws.csv\"))\n",
    "} else {\n",
    "    fit <- readRDS(paste0(results_base_dir, \"/fit.rds\"))\n",
    "    tidy_draws_df <- read_csv(paste0(results_base_dir, \"/draws.csv\"))\n",
    "}"
   ]
  },
  {
   "cell_type": "code",
   "execution_count": 12,
   "id": "38a4c46c-b5ed-42bb-a065-68fd0f52cc46",
   "metadata": {},
   "outputs": [],
   "source": [
    "tidy_draws_long_df <- tidy_draws_df %>%\n",
    "    pivot_longer(cols = !c(\".chain\", \".iteration\", \".draw\", \"i\"), names_to = \"param\") %>%\n",
    "    ungroup() %>%\n",
    "    rename(group_id = i)"
   ]
  },
  {
   "cell_type": "code",
   "execution_count": 13,
   "id": "cb279e47-8a49-4f0d-b5f1-1581821f74db",
   "metadata": {},
   "outputs": [],
   "source": [
    "fit_summary <- summary(fit)"
   ]
  },
  {
   "cell_type": "code",
   "execution_count": 14,
   "id": "48ce5ce6-ae3b-4abc-b2f7-21210c3066f1",
   "metadata": {},
   "outputs": [
    {
     "data": {
      "text/html": [
       "<table class=\"dataframe\">\n",
       "<caption>A tibble: 12 × 11</caption>\n",
       "<thead>\n",
       "\t<tr><th scope=col>param</th><th scope=col>mean</th><th scope=col>se_mean</th><th scope=col>sd</th><th scope=col>2.5%</th><th scope=col>25%</th><th scope=col>50%</th><th scope=col>75%</th><th scope=col>97.5%</th><th scope=col>n_eff</th><th scope=col>Rhat</th></tr>\n",
       "\t<tr><th scope=col>&lt;chr&gt;</th><th scope=col>&lt;dbl&gt;</th><th scope=col>&lt;dbl&gt;</th><th scope=col>&lt;dbl&gt;</th><th scope=col>&lt;dbl&gt;</th><th scope=col>&lt;dbl&gt;</th><th scope=col>&lt;dbl&gt;</th><th scope=col>&lt;dbl&gt;</th><th scope=col>&lt;dbl&gt;</th><th scope=col>&lt;dbl&gt;</th><th scope=col>&lt;dbl&gt;</th></tr>\n",
       "</thead>\n",
       "<tbody>\n",
       "\t<tr><td>beta_0[1] </td><td> 162.222243</td><td>0.0392246813</td><td>1.235543990</td><td> 159.7780368</td><td> 161.3821418</td><td> 162.2349933</td><td> 163.0808284</td><td> 164.6173245</td><td> 992.1962</td><td>1.004261</td></tr>\n",
       "\t<tr><td>beta_0[2] </td><td> 140.610750</td><td>0.0409660580</td><td>1.221046974</td><td> 138.2409278</td><td> 139.7811590</td><td> 140.6153878</td><td> 141.4197768</td><td> 143.0482006</td><td> 888.4160</td><td>1.003445</td></tr>\n",
       "\t<tr><td>beta_0[3] </td><td> 147.658395</td><td>0.0410643580</td><td>1.231005971</td><td> 145.2744981</td><td> 146.8280706</td><td> 147.6607792</td><td> 148.5077735</td><td> 150.0871015</td><td> 898.6493</td><td>1.003341</td></tr>\n",
       "\t<tr><td>beta_0[4] </td><td> 169.803988</td><td>0.0387980427</td><td>1.209541557</td><td> 167.4759871</td><td> 168.9813424</td><td> 169.7893887</td><td> 170.6250894</td><td> 172.1606869</td><td> 971.9008</td><td>1.003568</td></tr>\n",
       "\t<tr><td>beta_0[5] </td><td> 145.308981</td><td>0.0416992614</td><td>1.245638178</td><td> 142.9637786</td><td> 144.4502589</td><td> 145.2938022</td><td> 146.1501718</td><td> 147.7504396</td><td> 892.3333</td><td>1.003517</td></tr>\n",
       "\t<tr><td>beta_0[6] </td><td> 133.333824</td><td>0.0390460059</td><td>1.181438045</td><td> 131.0729152</td><td> 132.5070243</td><td> 133.3355073</td><td> 134.1343631</td><td> 135.6666862</td><td> 915.5218</td><td>1.003874</td></tr>\n",
       "\t<tr><td>beta_0[7] </td><td> 156.587411</td><td>0.0393087301</td><td>1.189655394</td><td> 154.2584477</td><td> 155.7897298</td><td> 156.5965124</td><td> 157.3938769</td><td> 158.9202644</td><td> 915.9343</td><td>1.005596</td></tr>\n",
       "\t<tr><td>beta_0[8] </td><td> 152.394608</td><td>0.0384410836</td><td>1.202184783</td><td> 150.0713940</td><td> 151.5947389</td><td> 152.3880594</td><td> 153.2037265</td><td> 154.7921093</td><td> 978.0278</td><td>1.004064</td></tr>\n",
       "\t<tr><td>beta_0[9] </td><td> 158.425522</td><td>0.0416059643</td><td>1.273795097</td><td> 155.8920748</td><td> 157.5628519</td><td> 158.4378274</td><td> 159.2874742</td><td> 160.9195418</td><td> 937.3202</td><td>1.003793</td></tr>\n",
       "\t<tr><td>beta_0[10]</td><td> 149.682846</td><td>0.0377569893</td><td>1.195997890</td><td> 147.2938655</td><td> 148.8772796</td><td> 149.6789260</td><td> 150.4939535</td><td> 152.0120619</td><td>1003.3816</td><td>1.002441</td></tr>\n",
       "\t<tr><td>beta_1    </td><td>   0.304431</td><td>0.0003567139</td><td>0.008632844</td><td>   0.2873556</td><td>   0.2985539</td><td>   0.3044875</td><td>   0.3103714</td><td>   0.3213938</td><td> 585.6898</td><td>1.007475</td></tr>\n",
       "\t<tr><td>lp__      </td><td>-906.050475</td><td>0.0687020786</td><td>2.541362489</td><td>-911.8441820</td><td>-907.5623271</td><td>-905.7356941</td><td>-904.1773089</td><td>-902.0351356</td><td>1368.3383</td><td>1.002052</td></tr>\n",
       "</tbody>\n",
       "</table>\n"
      ],
      "text/latex": [
       "A tibble: 12 × 11\n",
       "\\begin{tabular}{lllllllllll}\n",
       " param & mean & se\\_mean & sd & 2.5\\% & 25\\% & 50\\% & 75\\% & 97.5\\% & n\\_eff & Rhat\\\\\n",
       " <chr> & <dbl> & <dbl> & <dbl> & <dbl> & <dbl> & <dbl> & <dbl> & <dbl> & <dbl> & <dbl>\\\\\n",
       "\\hline\n",
       "\t beta\\_0{[}1{]}  &  162.222243 & 0.0392246813 & 1.235543990 &  159.7780368 &  161.3821418 &  162.2349933 &  163.0808284 &  164.6173245 &  992.1962 & 1.004261\\\\\n",
       "\t beta\\_0{[}2{]}  &  140.610750 & 0.0409660580 & 1.221046974 &  138.2409278 &  139.7811590 &  140.6153878 &  141.4197768 &  143.0482006 &  888.4160 & 1.003445\\\\\n",
       "\t beta\\_0{[}3{]}  &  147.658395 & 0.0410643580 & 1.231005971 &  145.2744981 &  146.8280706 &  147.6607792 &  148.5077735 &  150.0871015 &  898.6493 & 1.003341\\\\\n",
       "\t beta\\_0{[}4{]}  &  169.803988 & 0.0387980427 & 1.209541557 &  167.4759871 &  168.9813424 &  169.7893887 &  170.6250894 &  172.1606869 &  971.9008 & 1.003568\\\\\n",
       "\t beta\\_0{[}5{]}  &  145.308981 & 0.0416992614 & 1.245638178 &  142.9637786 &  144.4502589 &  145.2938022 &  146.1501718 &  147.7504396 &  892.3333 & 1.003517\\\\\n",
       "\t beta\\_0{[}6{]}  &  133.333824 & 0.0390460059 & 1.181438045 &  131.0729152 &  132.5070243 &  133.3355073 &  134.1343631 &  135.6666862 &  915.5218 & 1.003874\\\\\n",
       "\t beta\\_0{[}7{]}  &  156.587411 & 0.0393087301 & 1.189655394 &  154.2584477 &  155.7897298 &  156.5965124 &  157.3938769 &  158.9202644 &  915.9343 & 1.005596\\\\\n",
       "\t beta\\_0{[}8{]}  &  152.394608 & 0.0384410836 & 1.202184783 &  150.0713940 &  151.5947389 &  152.3880594 &  153.2037265 &  154.7921093 &  978.0278 & 1.004064\\\\\n",
       "\t beta\\_0{[}9{]}  &  158.425522 & 0.0416059643 & 1.273795097 &  155.8920748 &  157.5628519 &  158.4378274 &  159.2874742 &  160.9195418 &  937.3202 & 1.003793\\\\\n",
       "\t beta\\_0{[}10{]} &  149.682846 & 0.0377569893 & 1.195997890 &  147.2938655 &  148.8772796 &  149.6789260 &  150.4939535 &  152.0120619 & 1003.3816 & 1.002441\\\\\n",
       "\t beta\\_1     &    0.304431 & 0.0003567139 & 0.008632844 &    0.2873556 &    0.2985539 &    0.3044875 &    0.3103714 &    0.3213938 &  585.6898 & 1.007475\\\\\n",
       "\t lp\\_\\_       & -906.050475 & 0.0687020786 & 2.541362489 & -911.8441820 & -907.5623271 & -905.7356941 & -904.1773089 & -902.0351356 & 1368.3383 & 1.002052\\\\\n",
       "\\end{tabular}\n"
      ],
      "text/markdown": [
       "\n",
       "A tibble: 12 × 11\n",
       "\n",
       "| param &lt;chr&gt; | mean &lt;dbl&gt; | se_mean &lt;dbl&gt; | sd &lt;dbl&gt; | 2.5% &lt;dbl&gt; | 25% &lt;dbl&gt; | 50% &lt;dbl&gt; | 75% &lt;dbl&gt; | 97.5% &lt;dbl&gt; | n_eff &lt;dbl&gt; | Rhat &lt;dbl&gt; |\n",
       "|---|---|---|---|---|---|---|---|---|---|---|\n",
       "| beta_0[1]  |  162.222243 | 0.0392246813 | 1.235543990 |  159.7780368 |  161.3821418 |  162.2349933 |  163.0808284 |  164.6173245 |  992.1962 | 1.004261 |\n",
       "| beta_0[2]  |  140.610750 | 0.0409660580 | 1.221046974 |  138.2409278 |  139.7811590 |  140.6153878 |  141.4197768 |  143.0482006 |  888.4160 | 1.003445 |\n",
       "| beta_0[3]  |  147.658395 | 0.0410643580 | 1.231005971 |  145.2744981 |  146.8280706 |  147.6607792 |  148.5077735 |  150.0871015 |  898.6493 | 1.003341 |\n",
       "| beta_0[4]  |  169.803988 | 0.0387980427 | 1.209541557 |  167.4759871 |  168.9813424 |  169.7893887 |  170.6250894 |  172.1606869 |  971.9008 | 1.003568 |\n",
       "| beta_0[5]  |  145.308981 | 0.0416992614 | 1.245638178 |  142.9637786 |  144.4502589 |  145.2938022 |  146.1501718 |  147.7504396 |  892.3333 | 1.003517 |\n",
       "| beta_0[6]  |  133.333824 | 0.0390460059 | 1.181438045 |  131.0729152 |  132.5070243 |  133.3355073 |  134.1343631 |  135.6666862 |  915.5218 | 1.003874 |\n",
       "| beta_0[7]  |  156.587411 | 0.0393087301 | 1.189655394 |  154.2584477 |  155.7897298 |  156.5965124 |  157.3938769 |  158.9202644 |  915.9343 | 1.005596 |\n",
       "| beta_0[8]  |  152.394608 | 0.0384410836 | 1.202184783 |  150.0713940 |  151.5947389 |  152.3880594 |  153.2037265 |  154.7921093 |  978.0278 | 1.004064 |\n",
       "| beta_0[9]  |  158.425522 | 0.0416059643 | 1.273795097 |  155.8920748 |  157.5628519 |  158.4378274 |  159.2874742 |  160.9195418 |  937.3202 | 1.003793 |\n",
       "| beta_0[10] |  149.682846 | 0.0377569893 | 1.195997890 |  147.2938655 |  148.8772796 |  149.6789260 |  150.4939535 |  152.0120619 | 1003.3816 | 1.002441 |\n",
       "| beta_1     |    0.304431 | 0.0003567139 | 0.008632844 |    0.2873556 |    0.2985539 |    0.3044875 |    0.3103714 |    0.3213938 |  585.6898 | 1.007475 |\n",
       "| lp__       | -906.050475 | 0.0687020786 | 2.541362489 | -911.8441820 | -907.5623271 | -905.7356941 | -904.1773089 | -902.0351356 | 1368.3383 | 1.002052 |\n",
       "\n"
      ],
      "text/plain": [
       "   param      mean        se_mean      sd          2.5%         25%         \n",
       "1  beta_0[1]   162.222243 0.0392246813 1.235543990  159.7780368  161.3821418\n",
       "2  beta_0[2]   140.610750 0.0409660580 1.221046974  138.2409278  139.7811590\n",
       "3  beta_0[3]   147.658395 0.0410643580 1.231005971  145.2744981  146.8280706\n",
       "4  beta_0[4]   169.803988 0.0387980427 1.209541557  167.4759871  168.9813424\n",
       "5  beta_0[5]   145.308981 0.0416992614 1.245638178  142.9637786  144.4502589\n",
       "6  beta_0[6]   133.333824 0.0390460059 1.181438045  131.0729152  132.5070243\n",
       "7  beta_0[7]   156.587411 0.0393087301 1.189655394  154.2584477  155.7897298\n",
       "8  beta_0[8]   152.394608 0.0384410836 1.202184783  150.0713940  151.5947389\n",
       "9  beta_0[9]   158.425522 0.0416059643 1.273795097  155.8920748  157.5628519\n",
       "10 beta_0[10]  149.682846 0.0377569893 1.195997890  147.2938655  148.8772796\n",
       "11 beta_1        0.304431 0.0003567139 0.008632844    0.2873556    0.2985539\n",
       "12 lp__       -906.050475 0.0687020786 2.541362489 -911.8441820 -907.5623271\n",
       "   50%          75%          97.5%        n_eff     Rhat    \n",
       "1   162.2349933  163.0808284  164.6173245  992.1962 1.004261\n",
       "2   140.6153878  141.4197768  143.0482006  888.4160 1.003445\n",
       "3   147.6607792  148.5077735  150.0871015  898.6493 1.003341\n",
       "4   169.7893887  170.6250894  172.1606869  971.9008 1.003568\n",
       "5   145.2938022  146.1501718  147.7504396  892.3333 1.003517\n",
       "6   133.3355073  134.1343631  135.6666862  915.5218 1.003874\n",
       "7   156.5965124  157.3938769  158.9202644  915.9343 1.005596\n",
       "8   152.3880594  153.2037265  154.7921093  978.0278 1.004064\n",
       "9   158.4378274  159.2874742  160.9195418  937.3202 1.003793\n",
       "10  149.6789260  150.4939535  152.0120619 1003.3816 1.002441\n",
       "11    0.3044875    0.3103714    0.3213938  585.6898 1.007475\n",
       "12 -905.7356941 -904.1773089 -902.0351356 1368.3383 1.002052"
      ]
     },
     "metadata": {},
     "output_type": "display_data"
    }
   ],
   "source": [
    "fit_summary$summary %>%\n",
    "    as_tibble(rownames = \"param\")\n",
    "    # filter(param == \"beta_1\")"
   ]
  }
 ],
 "metadata": {
  "kernelspec": {
   "display_name": "R",
   "language": "R",
   "name": "ir"
  },
  "language_info": {
   "codemirror_mode": "r",
   "file_extension": ".r",
   "mimetype": "text/x-r-source",
   "name": "R",
   "pygments_lexer": "r",
   "version": "4.3.1"
  }
 },
 "nbformat": 4,
 "nbformat_minor": 5
}
